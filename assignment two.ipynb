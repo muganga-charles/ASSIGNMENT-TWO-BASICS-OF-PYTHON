{
 "cells": [
  {
   "cell_type": "markdown",
   "metadata": {},
   "source": [
    "using random to select a number and allowing a user to also enter a number and compare"
   ]
  },
  {
   "cell_type": "code",
   "execution_count": null,
   "metadata": {},
   "outputs": [],
   "source": [
    "#number one\n",
    "import random\n",
    "secrte_number=random.randint(1,4)\n",
    "\n",
    "number=True\n",
    "while number==True:\n",
    "    number_entered=int(input('enter a integer'))\n",
    "    number2=4\n",
    "    if secrte_number==number_entered:\n",
    "        print(\"welldone\")\n",
    "        number=False\n",
    "    else:\n",
    "        print(\"Ha ha! You're stuck in my loop!\")\n",
    "        number=True\n"
   ]
  },
  {
   "cell_type": "markdown",
   "metadata": {},
   "source": [
    "using the time module to print a word with its index"
   ]
  },
  {
   "cell_type": "code",
   "execution_count": null,
   "metadata": {},
   "outputs": [],
   "source": [
    "\"\"\"\n",
    "NUMBER TWO\n",
    "\"\"\"\n",
    "\"\"\"\n",
    "for i in range(1,6):\n",
    "    print(str(i)+' '+'Mississipi')\n",
    "\n",
    "\"\"\"\n",
    "\n",
    "import time#import time module\n",
    "for i in range(1,6):#loop six times\n",
    "    print(str(i)+' '+'Mississipi')#print the number and the state\n",
    "    time.sleep(1)#wait for 1 second\n"
   ]
  },
  {
   "cell_type": "markdown",
   "metadata": {},
   "source": [
    "USING THE BREAK STATEMENT IF THE WRITE ENTRY IS MADE"
   ]
  },
  {
   "cell_type": "code",
   "execution_count": null,
   "metadata": {},
   "outputs": [],
   "source": [
    "\"\"\"\n",
    "NUMBER Three # BREAK statement\n",
    "\"\"\"\n",
    "\n",
    "\n",
    "answer=True\n",
    "while answer==True:#using the boolean to loop\n",
    "    word=input('enter a word')#accepts input from the user \n",
    "    if word=='chupacabra':\n",
    "        break#stops the loop\n",
    "print(\"you've succussfully left the loop\")\n",
    "\n"
   ]
  },
  {
   "cell_type": "markdown",
   "metadata": {},
   "source": [
    "REMOVING ALL THE VOWELS FROM A WORD"
   ]
  },
  {
   "cell_type": "code",
   "execution_count": null,
   "metadata": {},
   "outputs": [],
   "source": [
    "# \"\"\"\n",
    "# NUMBER four //CONTINUE\n",
    "# \"\"\"\n",
    "# \"\"\"\n",
    "def consonants(user_word):#a function that takes in a word as a parameter\n",
    "    user_word=user_word.upper()\n",
    "    for i in user_word:\n",
    "        if i=='A' or i=='E' or i=='I' or i=='O' or i=='U':\n",
    "            continue\n",
    "        else:\n",
    "            print(i,end='')"
   ]
  },
  {
   "cell_type": "markdown",
   "metadata": {},
   "source": [
    "USING THE IDEA OF COLLATZ  HYPOTHESIS AND COUNTING THE NUMBER OF STEPS TAKEN "
   ]
  },
  {
   "cell_type": "code",
   "execution_count": null,
   "metadata": {},
   "outputs": [],
   "source": [
    "\"\"\"\n",
    "#NUMBER four \n",
    "\"\"\"\n",
    "c0=int(input('enter a number'))#c0 is the number that the user enters\n",
    "steps=0#intialize the steps to 0\n",
    "while c0!=1:#while c0 is not equal to 1\n",
    "    if c0%2==0:\n",
    "        c0=c0/2\n",
    "        print (c0)#print the number\n",
    "    else:\n",
    "        c0=3*c0+1\n",
    "        print (c0)\n",
    "    steps+=1#add one to the steps\n",
    "print(\"steps\",steps)#print the steps"
   ]
  }
 ],
 "metadata": {
  "language_info": {
   "name": "python"
  },
  "orig_nbformat": 4
 },
 "nbformat": 4,
 "nbformat_minor": 2
}
